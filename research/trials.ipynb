{
 "cells": [
  {
   "cell_type": "code",
   "execution_count": 1,
   "metadata": {},
   "outputs": [
    {
     "data": {
      "text/plain": [
       "'d:\\\\End-to-End-Projects\\\\End-to-end-Anti-Money-Laundering-Transactions\\\\research'"
      ]
     },
     "execution_count": 1,
     "metadata": {},
     "output_type": "execute_result"
    }
   ],
   "source": [
    "import os, sys\n",
    "%pwd"
   ]
  },
  {
   "cell_type": "code",
   "execution_count": 2,
   "metadata": {},
   "outputs": [
    {
     "data": {
      "text/plain": [
       "'d:\\\\End-to-End-Projects\\\\End-to-end-Anti-Money-Laundering-Transactions'"
      ]
     },
     "execution_count": 2,
     "metadata": {},
     "output_type": "execute_result"
    }
   ],
   "source": [
    "os.chdir(\"../\")\n",
    "%pwd"
   ]
  },
  {
   "cell_type": "code",
   "execution_count": 6,
   "metadata": {},
   "outputs": [],
   "source": [
    "data_path = \"D:/End-to-End-Projects/End-to-end-Anti-Money-Laundering-Transactions/artifacts/data_ingestion/HI-small_Trans.csv\""
   ]
  },
  {
   "cell_type": "code",
   "execution_count": 4,
   "metadata": {},
   "outputs": [],
   "source": [
    "import pandas as pd"
   ]
  },
  {
   "cell_type": "code",
   "execution_count": 7,
   "metadata": {},
   "outputs": [],
   "source": [
    "df = pd.read_csv(data_path)"
   ]
  },
  {
   "cell_type": "code",
   "execution_count": 8,
   "metadata": {},
   "outputs": [
    {
     "data": {
      "text/html": [
       "<div>\n",
       "<style scoped>\n",
       "    .dataframe tbody tr th:only-of-type {\n",
       "        vertical-align: middle;\n",
       "    }\n",
       "\n",
       "    .dataframe tbody tr th {\n",
       "        vertical-align: top;\n",
       "    }\n",
       "\n",
       "    .dataframe thead th {\n",
       "        text-align: right;\n",
       "    }\n",
       "</style>\n",
       "<table border=\"1\" class=\"dataframe\">\n",
       "  <thead>\n",
       "    <tr style=\"text-align: right;\">\n",
       "      <th></th>\n",
       "      <th>Timestamp</th>\n",
       "      <th>From Bank</th>\n",
       "      <th>Account</th>\n",
       "      <th>To Bank</th>\n",
       "      <th>Account.1</th>\n",
       "      <th>Amount Received</th>\n",
       "      <th>Receiving Currency</th>\n",
       "      <th>Amount Paid</th>\n",
       "      <th>Payment Currency</th>\n",
       "      <th>Payment Format</th>\n",
       "      <th>Is Laundering</th>\n",
       "    </tr>\n",
       "  </thead>\n",
       "  <tbody>\n",
       "    <tr>\n",
       "      <th>0</th>\n",
       "      <td>2022/09/08 23:03</td>\n",
       "      <td>70</td>\n",
       "      <td>100428A08</td>\n",
       "      <td>148586</td>\n",
       "      <td>8120D5550</td>\n",
       "      <td>13204.53</td>\n",
       "      <td>Saudi Riyal</td>\n",
       "      <td>13204.53</td>\n",
       "      <td>Saudi Riyal</td>\n",
       "      <td>Cash</td>\n",
       "      <td>0</td>\n",
       "    </tr>\n",
       "    <tr>\n",
       "      <th>1</th>\n",
       "      <td>2022/09/07 00:15</td>\n",
       "      <td>1132</td>\n",
       "      <td>80C50E4A0</td>\n",
       "      <td>28</td>\n",
       "      <td>80B7644F0</td>\n",
       "      <td>329.94</td>\n",
       "      <td>Mexican Peso</td>\n",
       "      <td>329.94</td>\n",
       "      <td>Mexican Peso</td>\n",
       "      <td>Credit Card</td>\n",
       "      <td>0</td>\n",
       "    </tr>\n",
       "    <tr>\n",
       "      <th>2</th>\n",
       "      <td>2022/09/05 18:41</td>\n",
       "      <td>70</td>\n",
       "      <td>1004288E8</td>\n",
       "      <td>32814</td>\n",
       "      <td>80C1FC0D0</td>\n",
       "      <td>54497.52</td>\n",
       "      <td>Mexican Peso</td>\n",
       "      <td>54497.52</td>\n",
       "      <td>Mexican Peso</td>\n",
       "      <td>Credit Card</td>\n",
       "      <td>0</td>\n",
       "    </tr>\n",
       "    <tr>\n",
       "      <th>3</th>\n",
       "      <td>2022/09/01 00:03</td>\n",
       "      <td>210</td>\n",
       "      <td>8000A4B20</td>\n",
       "      <td>226548</td>\n",
       "      <td>809D2E6E0</td>\n",
       "      <td>6370.84</td>\n",
       "      <td>Canadian Dollar</td>\n",
       "      <td>6370.84</td>\n",
       "      <td>Canadian Dollar</td>\n",
       "      <td>ACH</td>\n",
       "      <td>0</td>\n",
       "    </tr>\n",
       "    <tr>\n",
       "      <th>4</th>\n",
       "      <td>2022/09/05 16:19</td>\n",
       "      <td>21</td>\n",
       "      <td>803F9CB00</td>\n",
       "      <td>9679</td>\n",
       "      <td>804679BD0</td>\n",
       "      <td>21376.33</td>\n",
       "      <td>Yen</td>\n",
       "      <td>21376.33</td>\n",
       "      <td>Yen</td>\n",
       "      <td>Cheque</td>\n",
       "      <td>0</td>\n",
       "    </tr>\n",
       "  </tbody>\n",
       "</table>\n",
       "</div>"
      ],
      "text/plain": [
       "          Timestamp  From Bank    Account  To Bank  Account.1  \\\n",
       "0  2022/09/08 23:03         70  100428A08   148586  8120D5550   \n",
       "1  2022/09/07 00:15       1132  80C50E4A0       28  80B7644F0   \n",
       "2  2022/09/05 18:41         70  1004288E8    32814  80C1FC0D0   \n",
       "3  2022/09/01 00:03        210  8000A4B20   226548  809D2E6E0   \n",
       "4  2022/09/05 16:19         21  803F9CB00     9679  804679BD0   \n",
       "\n",
       "   Amount Received Receiving Currency  Amount Paid Payment Currency  \\\n",
       "0         13204.53        Saudi Riyal     13204.53      Saudi Riyal   \n",
       "1           329.94       Mexican Peso       329.94     Mexican Peso   \n",
       "2         54497.52       Mexican Peso     54497.52     Mexican Peso   \n",
       "3          6370.84    Canadian Dollar      6370.84  Canadian Dollar   \n",
       "4         21376.33                Yen     21376.33              Yen   \n",
       "\n",
       "  Payment Format  Is Laundering  \n",
       "0           Cash              0  \n",
       "1    Credit Card              0  \n",
       "2    Credit Card              0  \n",
       "3            ACH              0  \n",
       "4         Cheque              0  "
      ]
     },
     "execution_count": 8,
     "metadata": {},
     "output_type": "execute_result"
    }
   ],
   "source": [
    "df.head()"
   ]
  },
  {
   "cell_type": "code",
   "execution_count": 9,
   "metadata": {},
   "outputs": [
    {
     "name": "stdout",
     "output_type": "stream",
     "text": [
      "<class 'pandas.core.frame.DataFrame'>\n",
      "RangeIndex: 50000 entries, 0 to 49999\n",
      "Data columns (total 11 columns):\n",
      " #   Column              Non-Null Count  Dtype  \n",
      "---  ------              --------------  -----  \n",
      " 0   Timestamp           50000 non-null  object \n",
      " 1   From Bank           50000 non-null  int64  \n",
      " 2   Account             50000 non-null  object \n",
      " 3   To Bank             50000 non-null  int64  \n",
      " 4   Account.1           50000 non-null  object \n",
      " 5   Amount Received     50000 non-null  float64\n",
      " 6   Receiving Currency  50000 non-null  object \n",
      " 7   Amount Paid         50000 non-null  float64\n",
      " 8   Payment Currency    50000 non-null  object \n",
      " 9   Payment Format      50000 non-null  object \n",
      " 10  Is Laundering       50000 non-null  int64  \n",
      "dtypes: float64(2), int64(3), object(6)\n",
      "memory usage: 4.2+ MB\n"
     ]
    }
   ],
   "source": [
    "df.info()"
   ]
  },
  {
   "cell_type": "code",
   "execution_count": 10,
   "metadata": {},
   "outputs": [
    {
     "data": {
      "text/plain": [
       "Receiving Currency\n",
       "US Dollar            18395\n",
       "Euro                 11583\n",
       "Swiss Franc           2444\n",
       "Yuan                  1977\n",
       "Shekel                1923\n",
       "UK Pound              1819\n",
       "Rupee                 1804\n",
       "Yen                   1578\n",
       "Ruble                 1564\n",
       "Bitcoin               1483\n",
       "Australian Dollar     1401\n",
       "Canadian Dollar       1342\n",
       "Mexican Peso          1110\n",
       "Saudi Riyal            860\n",
       "Brazil Real            717\n",
       "Name: count, dtype: int64"
      ]
     },
     "execution_count": 10,
     "metadata": {},
     "output_type": "execute_result"
    }
   ],
   "source": [
    "df['Receiving Currency'].value_counts()"
   ]
  },
  {
   "cell_type": "code",
   "execution_count": null,
   "metadata": {},
   "outputs": [],
   "source": []
  }
 ],
 "metadata": {
  "kernelspec": {
   "display_name": "Python 3",
   "language": "python",
   "name": "python3"
  },
  "language_info": {
   "codemirror_mode": {
    "name": "ipython",
    "version": 3
   },
   "file_extension": ".py",
   "mimetype": "text/x-python",
   "name": "python",
   "nbconvert_exporter": "python",
   "pygments_lexer": "ipython3",
   "version": "3.8.19"
  }
 },
 "nbformat": 4,
 "nbformat_minor": 2
}
